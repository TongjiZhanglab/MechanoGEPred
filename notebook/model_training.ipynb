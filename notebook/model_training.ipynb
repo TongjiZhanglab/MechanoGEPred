{
 "cells": [
  {
   "cell_type": "markdown",
   "metadata": {},
   "source": [
    "# MechanoGEPred Model Training\n",
    "\n",
    "This notebook demonstrates the complete training process for the MechanoGEPred model.\n",
    "\n",
    "## Overview\n",
    "\n",
    "The model uses a Gradient Boosting Regressor to predict mechanical properties from gene expression profiles."
   ]
  },
  {
   "cell_type": "code",
   "execution_count": null,
   "metadata": {},
   "outputs": [
    {
     "name": "stdout",
     "output_type": "stream",
     "text": [
      "Libraries imported successfully!\n"
     ]
    }
   ],
   "source": [
    "# Import required libraries\n",
    "import numpy as np\n",
    "import pandas as pd\n",
    "from sklearn.ensemble import GradientBoostingRegressor\n",
    "from sklearn.model_selection import train_test_split, cross_val_score\n",
    "from sklearn.metrics import mean_squared_error, r2_score\n",
    "from sklearn.preprocessing import StandardScaler\n",
    "import joblib\n",
    "import os\n",
    "from pathlib import Path\n",
    "\n",
    "print(\"Libraries imported successfully!\")\n",
    "\n",
    "# Change working directory\n",
    "os.chdir(\"./MechanoGEPred\")"
   ]
  },
  {
   "cell_type": "markdown",
   "metadata": {},
   "source": [
    "## Load Training Data"
   ]
  },
  {
   "cell_type": "code",
   "execution_count": 2,
   "metadata": {},
   "outputs": [
    {
     "name": "stdout",
     "output_type": "stream",
     "text": [
      "Loading data from: data/train_test_data.csv\n",
      "Data loaded successfully! Shape: (104, 345)\n"
     ]
    }
   ],
   "source": [
    "# Load training data\n",
    "try:\n",
    "    file_path = 'data/train_test_data.csv'\n",
    "    if os.path.exists(file_path):\n",
    "        print(f\"Loading data from: {file_path}\")\n",
    "        data = pd.read_csv(file_path, index_col=0, header=0)\n",
    "        print(f\"Data loaded successfully! Shape: {data.shape}\")\n",
    "    else:\n",
    "        print(\"Training data not found. Please ensure train_test_data.csv is available.\")\n",
    "        raise FileNotFoundError(\"Training data not found\")\n",
    "except FileNotFoundError:\n",
    "    print(\"\\nTo reproduce the training process, you need the training data.\")\n",
    "    "
   ]
  },
  {
   "cell_type": "markdown",
   "metadata": {},
   "source": [
    "## Prepare Data"
   ]
  },
  {
   "cell_type": "code",
   "execution_count": 3,
   "metadata": {},
   "outputs": [
    {
     "name": "stdout",
     "output_type": "stream",
     "text": [
      "Features: 344 genes, Samples: 104 cell lines\n",
      "Target range: 0.060 - 8.500\n"
     ]
    }
   ],
   "source": [
    "# Extract features and target\n",
    "X = data.drop('MechanicalProperty', axis=1)\n",
    "y = data['MechanicalProperty']\n",
    "\n",
    "print(f\"Features: {X.shape[1]} genes, Samples: {X.shape[0]} cell lines\")\n",
    "print(f\"Target range: {y.min():.3f} - {y.max():.3f}\")"
   ]
  },
  {
   "cell_type": "markdown",
   "metadata": {},
   "source": [
    "## Train Model"
   ]
  },
  {
   "cell_type": "code",
   "execution_count": 4,
   "metadata": {},
   "outputs": [
    {
     "name": "stdout",
     "output_type": "stream",
     "text": [
      "Model training completed!\n"
     ]
    }
   ],
   "source": [
    "# Split data\n",
    "seed = 1021\n",
    "X_train, X_test, y_train, y_test = train_test_split(X, y, test_size=0.2, random_state=seed)\n",
    "\n",
    "# Standardize features\n",
    "scaler = StandardScaler()\n",
    "X_train_scaled = scaler.fit_transform(X_train)\n",
    "X_test_scaled = scaler.transform(X_test)\n",
    "\n",
    "# Train model\n",
    "model = GradientBoostingRegressor(random_state=seed)\n",
    "model.fit(X_train_scaled, y_train)\n",
    "\n",
    "print(\"Model training completed!\")"
   ]
  },
  {
   "cell_type": "markdown",
   "metadata": {},
   "source": [
    "## Evaluate Model"
   ]
  },
  {
   "cell_type": "code",
   "execution_count": 5,
   "metadata": {},
   "outputs": [
    {
     "name": "stdout",
     "output_type": "stream",
     "text": [
      "Test R²: 0.37\n",
      "Test MSE: 1.76\n"
     ]
    }
   ],
   "source": [
    "# Make predictions\n",
    "y_train_pred = model.predict(X_train_scaled)\n",
    "y_test_pred = model.predict(X_test_scaled)\n",
    "\n",
    "# Calculate metrics\n",
    "r2_test = r2_score(y_test, y_test_pred)\n",
    "mse_test = mean_squared_error(y_test, y_test_pred)\n",
    "\n",
    "print(f\"Test R²: {r2_test:.2f}\")\n",
    "print(f\"Test MSE: {mse_test:.2f}\")"
   ]
  },
  {
   "cell_type": "markdown",
   "metadata": {},
   "source": [
    "## Save Model"
   ]
  },
  {
   "cell_type": "code",
   "execution_count": 6,
   "metadata": {},
   "outputs": [
    {
     "name": "stdout",
     "output_type": "stream",
     "text": [
      "Model and scaler saved successfully!\n"
     ]
    }
   ],
   "source": [
    "# Save model and scaler\n",
    "joblib.dump(model, 'model/model.joblib')\n",
    "joblib.dump(scaler, 'model/scaler.joblib')\n",
    "\n",
    "print(\"Model and scaler saved successfully!\")"
   ]
  }
 ],
 "metadata": {
  "kernelspec": {
   "display_name": "MechanoGEPred",
   "language": "python",
   "name": "python3"
  },
  "language_info": {
   "codemirror_mode": {
    "name": "ipython",
    "version": 3
   },
   "file_extension": ".py",
   "mimetype": "text/x-python",
   "name": "python",
   "nbconvert_exporter": "python",
   "pygments_lexer": "ipython3",
   "version": "3.11.13"
  }
 },
 "nbformat": 4,
 "nbformat_minor": 4
}
